{
 "cells": [
  {
   "cell_type": "markdown",
   "metadata": {},
   "source": [
    "# 🌐 AgentCore Browser with Web Auth Signing \n",
    "\n",
    "## Overview\n",
    "\n",
    "In this tutorial we will learn how to enable Web Bot Auth signing with Amazon Bedrock AgentCore Browser tool. \n",
    "\n",
    "### Tutorial Details\n",
    "\n",
    "| Information         | Details                                                                          |\n",
    "|:--------------------|:---------------------------------------------------------------------------------|\n",
    "| Tutorial type       | Conversational                                                                   |\n",
    "| Agent type          | Single                                                                           |\n",
    "| Agentic Framework   | Strands                                                                          |\n",
    "| LLM model           | Claude 4.5 Haiku                                                                 |\n",
    "| Tutorial components | Browser automation, *Web Bot Auth* signing of browser Requests                   |\n",
    "| Tutorial vertical   |                                                                                  |\n",
    "| Example complexity  | Intermediate                                                                     |\n",
    "| SDK used            | Amazon Bedrock AgentCore Python SDK, Strands Agents, Strands Agent Tools         |\n",
    " \n",
    "### Tutorial Architecture\n",
    "\n",
    "![Architecture](images/Architecture.png)\n",
    "\n",
    "### Tutorial Key Features\n",
    "\n",
    "* Using browser tool in a headless way with Strands agents\n",
    "* Using strands_tools AgentCoreBrowser tool\n",
    "* Claude 4.5 Haiku model for fast and efficient analysis\n",
    "\n",
    "## Prerequisites\n",
    "\n",
    "To execute this tutorial you will need:\n",
    "* Python 3.10+\n",
    "* AWS credentials configured\n",
    "* Amazon Bedrock AgentCore SDK\n",
    "* Strands agents and strands-agents-tools packages\n",
    "* Access to Claude 4.5 Haiku model in Amazon Bedrock\n",
    "\n",
    "**Implementation**: Using the official `strands_tools.browser.AgentCoreBrowser` for browser automation from an agent."
   ]
  },
  {
   "cell_type": "markdown",
   "metadata": {},
   "source": [
    "## 🔧 AgentCore Browser Configuration\n",
    "\n",
    "Before using the AgentCore Browser tool, you can optionally create a custom browser configuration with specific settings like recording capabilities, network configuration, and execution roles. This section shows how to create a custom browser configuration using the AWS SDK.\n",
    "\n",
    "### Create Custom Browser Configuration\n",
    "\n",
    "The following code demonstrates how to create a custom AgentCore Browser with recording enabled and a specific execution role."
   ]
  },
  {
   "cell_type": "markdown",
   "metadata": {},
   "source": [
    "#### 📚 Create the Browser Configuration with Web Bot Auth Signing\n",
    "\n",
    "**What is Browser Signing?**\n",
    "\n",
    "Browser signing (`browserSigning.enabled = True`) configures the AgentCore Browser to automatically sign all outgoing HTTP requests. This is essential for:\n",
    "\n",
    "- **Authenticated API access**: Sign requests to protected APIs\n",
    "- **AWS service integration**: Automatically sign requests with AWS credentials\n",
    "- **Security compliance**: Ensure all browser requests are authenticated\n",
    "- **Request integrity**: Cryptographically sign request headers\n",
    "\n",
    "When enabled, the browser will:\n",
    "1. Intercept all HTTP/HTTPS requests\n",
    "2. Add cryptographic signatures to request headers\n",
    "3. Include authentication tokens automatically\n",
    "4. Maintain session integrity across requests\n"
   ]
  },
  {
   "cell_type": "markdown",
   "metadata": {},
   "source": [
    "### 📦 Import Libraries\n"
   ]
  },
  {
   "cell_type": "code",
   "execution_count": null,
   "metadata": {},
   "outputs": [],
   "source": [
    "import boto3\n",
    "import uuid\n",
    "import os\n",
    "import sys\n",
    "from strands import Agent\n",
    "from strands_tools.browser import AgentCoreBrowser\n",
    "import asyncio\n",
    "import time\n",
    "\n",
    "tutorials_path = os.path.abspath(os.path.join(os.getcwd(), '../../../'))\n",
    "if tutorials_path not in sys.path:\n",
    "    sys.path.insert(0, tutorials_path)\n",
    "\n",
    "from utils import create_agentcore_role\n",
    "\n",
    "cp_client = boto3.client('bedrock-agentcore-control', \n",
    "                         region_name='us-west-2')\n",
    "\n",
    "\n",
    "accountId = boto3.client(\"sts\").get_caller_identity()[\"Account\"] \n",
    "region = boto3.Session().region_name\n",
    "\n",
    "print(f\"Account ID: {accountId}\")\n",
    "print(f\"Region: {region}\")"
   ]
  },
  {
   "cell_type": "markdown",
   "metadata": {},
   "source": [
    "### 🔧 Setup and Role Creation\n"
   ]
  },
  {
   "cell_type": "code",
   "execution_count": null,
   "metadata": {
    "execution": {
     "iopub.execute_input": "2025-10-15T18:32:15.915154Z",
     "iopub.status.busy": "2025-10-15T18:32:15.914934Z",
     "iopub.status.idle": "2025-10-15T18:32:16.777763Z",
     "shell.execute_reply": "2025-10-15T18:32:16.777394Z"
    }
   },
   "outputs": [],
   "source": [
    "## Create the execution role.\n",
    "execution_role_arn = create_agentcore_role(\"web-bot-auth\")[\"Role\"][\"Arn\"]\n",
    "\n",
    "print(f\"\\n✅ Role Created Successfully : {execution_role_arn}\")\n",
    "\n",
    "## Create new browser instance with custom configurations\n",
    "response = cp_client.create_browser(\n",
    "    name=\"web_bot_auth_browser_\" + str(uuid.uuid4())[:6],\n",
    "    description=\"Browser configured to sign web bot auth\",\n",
    "    networkConfiguration={\n",
    "        \"networkMode\": \"PUBLIC\"\n",
    "    },\n",
    "    executionRoleArn=execution_role_arn,\n",
    "    browserSigning={\n",
    "        \"enabled\": True\n",
    "    }\n",
    ")\n",
    "\n",
    "browserId = response['browserId']\n",
    "browserArn = response['browserArn']\n",
    "print(f\"\\n✅ Browser Created Successfully!\")\n",
    "print(f\"   Browser ID: {browserId}\")\n",
    "print(f\"   Browser ARN: {browserArn}\")\n",
    "print(f\"\\n🔐 Browser signing is ENABLED - all requests will be automatically signed\")"
   ]
  },
  {
   "cell_type": "markdown",
   "metadata": {},
   "source": [
    "### 🔧 Create Strands Agent with AgentCoreBrowser Tool\n"
   ]
  },
  {
   "cell_type": "code",
   "execution_count": null,
   "metadata": {},
   "outputs": [],
   "source": [
    "# Create and configure the Strands agent with AgentCoreBrowser\n",
    "# Initialize the official AgentCoreBrowser tool with the custom browser ID that\n",
    "# was created in the previous step\n",
    "agent_core_browser = AgentCoreBrowser(identifier=browserId, region=\"us-west-2\")\n",
    "agent_core_default_browser = AgentCoreBrowser(region=\"us-west-2\")\n",
    "\n",
    "# Import the SequentialToolExecutor to prevent concurrent browser operations\n",
    "from strands.tools.executors import SequentialToolExecutor\n",
    "    \n",
    "# Create SIGNED agent with Claude 4.5 Haiku model and SEQUENTIAL tool execution\n",
    "strands_agent = Agent(\n",
    "    tools=[agent_core_browser.browser],  # Uses the custom browser with signing enabled\n",
    "    tool_executor=SequentialToolExecutor(),  # This prevents concurrent browser operations\n",
    "    model=\"global.anthropic.claude-haiku-4-5-20251001-v1:0\",\n",
    "    system_prompt=\"\"\"You are a website analyst with browser signing capabilities.\n",
    "1. Use the browser tool to visit and interact with the website EFFICIENTLY\n",
    "2. Focus on extracting key information QUICKLY and within 2-3 browser interactions.\n",
    "3. Review browser requests for signatures related to Web Bot Auth's Signature and Signature-Agent http headers, \n",
    "   to verify if browser signing is configured.\"\"\"\n",
    ")\n",
    "\n",
    "# Create UNSIGNED agent with Claude 4.5 Haiku model and SEQUENTIAL tool execution\n",
    "strands_agent_unsigned = Agent(\n",
    "    tools=[agent_core_default_browser.browser],  # Uses the default browser without signing\n",
    "    tool_executor=SequentialToolExecutor(),  # This prevents concurrent browser operations\n",
    "    model=\"global.anthropic.claude-haiku-4-5-20251001-v1:0\",\n",
    "    system_prompt=\"\"\"You are a website analyst with browser signing capabilities.\n",
    "1. Use the browser tool to visit and interact with the website EFFICIENTLY\n",
    "2. Focus on extracting key information QUICKLY and within 2-3 browser interactions.\n",
    "3. Review browser requests for signatures related to Web Bot Auth's Signature and Signature-Agent http headers, \n",
    "   to verify if browser signing is configured.\"\"\"\n",
    ")"
   ]
  },
  {
   "cell_type": "code",
   "execution_count": null,
   "metadata": {},
   "outputs": [],
   "source": [
    "# Define async function with sequential execution (no more concurrent conflicts)\n",
    "async def analyze_website(agent, prompt):\n",
    "    \"\"\"Async wrapper for agent invocation with sequential tool execution\"\"\"\n",
    "    try:\n",
    "        # With SequentialToolExecutor, browser operations won't conflict\n",
    "        result = await agent.invoke_async(prompt)\n",
    "        return result\n",
    "    except Exception as e:\n",
    "        print(f\"❌ Error: {str(e)}\")\n",
    "        import traceback\n",
    "        traceback.print_exc()\n",
    "        return None"
   ]
  },
  {
   "cell_type": "markdown",
   "metadata": {},
   "source": [
    "### 🚀 Start Analysis with Browser Signing Enabled\n"
   ]
  },
  {
   "cell_type": "code",
   "execution_count": null,
   "metadata": {},
   "outputs": [],
   "source": [
    "print(\"\\n🚀 Validate browser signing against CloudFlare's crawltest site.\")\n",
    "print(\"=\"*100)\n",
    "  \n",
    "result_signed = await analyze_website(\n",
    "    strands_agent,\n",
    "    \"Review the output and status code at https://crawltest.com/cdn-cgi/web-bot-auth and provide 3 to 4 concise key insights, based on https://developers.cloudflare.com/bots/reference/bot-verification/web-bot-auth/\"\n",
    ")\n",
    "\n",
    "if result_signed:\n",
    "    print(\"\\n\\n✅ Analysis completed, with Web Bot Auth browser signing enabled\")\n",
    "    print(\"-\"*100)\n",
    "    print(result_signed)\n",
    "    print(\"-\"*100)"
   ]
  },
  {
   "cell_type": "markdown",
   "metadata": {},
   "source": [
    "### Re-run the experiment without browser signing\n",
    "\n",
    "To validate that our test is valid, lets run the same prompt, but with the agent that is configured without browser signing."
   ]
  },
  {
   "cell_type": "code",
   "execution_count": null,
   "metadata": {},
   "outputs": [],
   "source": [
    "print(\"\\n🚀 Validate browser signing against CloudFlare's crawltest site - without Web Bot Auth browser signing.\")\n",
    "print(\"=\"*100)\n",
    "  \n",
    "result_unsigned = await analyze_website(\n",
    "    strands_agent_unsigned,\n",
    "    \"Review the output and status code at https://crawltest.com/cdn-cgi/web-bot-auth and provide 3 to 4 concise key insights, based on https://developers.cloudflare.com/bots/reference/bot-verification/web-bot-auth/\"\n",
    ")\n",
    "\n",
    "if result_unsigned:\n",
    "    print(\"\\n\\n✅ Analysis completed - without Web Bot Auth browser signing\")\n",
    "    print(\"-\"*100)\n",
    "    print(result_unsigned)\n",
    "    print(\"-\"*100)"
   ]
  },
  {
   "cell_type": "markdown",
   "metadata": {},
   "source": [
    "Lets compare our results:"
   ]
  },
  {
   "cell_type": "code",
   "execution_count": null,
   "metadata": {},
   "outputs": [],
   "source": [
    "# Compare result_unsigned and result_signed using Strands Agent\n",
    "comparison_prompt = f\"\"\"\n",
    "Please analyze and compare these two agent outputs side by side:\n",
    "\n",
    "**Unsigned Agent Output:**\n",
    "{result_unsigned}\n",
    "\n",
    "**Signed Agent Output:**\n",
    "{result_signed}\n",
    "\n",
    "Please provide:\n",
    "* A side-by-side comparison highlighting key differences\n",
    "* Validation of the Signed Agent using Signatures correctly\n",
    "* Validation of the Unsigned Agent NOT using Signatures\n",
    "* Summary of which aspects differ most significantly\n",
    "\n",
    "Format your response clearly with headers and bullet points for easy reading.\n",
    "\"\"\"\n",
    "\n",
    "# Make Strands Agent call to compare the results\n",
    "comparison_agent = Agent(\n",
    "    system_prompt=\"\"\"You are an expert data analyst evaluating different AI agent outputs.\"\"\",\n",
    "    callback_handler=None\n",
    ")\n",
    "\n",
    "comparison_response = comparison_agent(comparison_prompt)\n",
    "\n",
    "print(\"=== COMPARISON OF AGENT OUTPUTS ===\")\n",
    "print(comparison_response)\n"
   ]
  },
  {
   "cell_type": "markdown",
   "metadata": {},
   "source": [
    "## 🎭 What Happened Behind the Scene\n",
    "\n",
    "When you execute this notebook with **browser signing enabled**, the following process occurs:\n",
    "\n",
    "### 1. **Browser Configuration Creation**\n",
    "```python\n",
    "browserSigning={\n",
    "    \"enabled\": True\n",
    "}\n",
    "```\n",
    "This tells the AgentCore Browser service to automatically sign all HTTP requests made by the browser.\n",
    "\n",
    "### 2. **Agent Initialization**\n",
    "The Strands agent is initialized with:\n",
    "- A browser configuration identifier with signing enabled. *Note* this is not the default browser identifier.\n",
    "- Claude 4.5 Haiku model\n",
    "- Browser tool integration\n",
    "\n",
    "### 3. **Request Signing Flow**\n",
    "When the agent navigates to websites:\n",
    "\n",
    "```text\n",
    "┌─────────────────┐    ┌───────────────────┐    ┌──────────────────────┐    ┌──────────────┐\n",
    "│  Agent Request  │ ──→│ AgentCore Browser │ ──→│ Sign Request Headers │ ──→│Target Website│\n",
    "└─────────────────┘    └───────────────────┘    └──────────────────────┘    └──────────────┘\n",
    "                                                          │\n",
    "                                                          ▼\n",
    "                                                Add Web Bot Auth headers:\n",
    "                                                • Signature-Input header\n",
    "                                                • Signature-Agent header\n",
    "                                                • Signature header\n",
    "\n",
    "```\n",
    "\n",
    "## 🔒 Security Benefits\n",
    "\n",
    "With browser signing enabled:\n",
    "\n",
    "✅ **Automatic Authentication** - No manual header management  \n",
    "✅ **Request Integrity** - Cryptographic signatures prevent tampering  \n",
    "✅ **AWS Integration** - Seamless IAM credential integration for agents to use the browser tool \n",
    "✅ **Session Management** - Secure session token handling with each session getting its own browser sessions \n",
    "✅ **Audit Trail** - All signed requests are able to be logged  \n",
    "\n",
    "## 🛠️ Troubleshooting\n",
    "\n",
    "### Error: \"Browser session not found\"\n",
    "**Solution**: The browser ID might have expired. Re-run the browser creation cell (cell-3)\n",
    "\n",
    "### RuntimeError: \"Leaving task does not match the current task\"\n",
    "**Solution**: This asyncio error occurs when browser operations run concurrently. The notebook uses `SequentialToolExecutor()` to prevent this issue by ensuring browser operations execute one at a time.\n",
    "\n",
    "**Why this happens**: If your agent asks the AgentCore Browser tool performs multiple async operations (get_html, get_text, screenshot, etc.) in parallel, Strands may execute them concurrently, creating conflicting asyncio tasks.\n",
    "\n",
    "**The fix**: Use `SequentialToolExecutor()` to ensure all tool calls execute sequentially, eliminating the async task conflicts while maintaining the same functionality.\n"
   ]
  },
  {
   "cell_type": "markdown",
   "metadata": {},
   "source": [
    "## 📚 Further Reading\n",
    "\n",
    "To learn more about Web Bot Auth and how it reduces CAPTCHAs for AI agents, check out these resources:\n",
    "\n",
    "### AWS Blog Posts\n",
    "- **[Reduce CAPTCHAs for AI agents browsing the web with Web Bot Auth (Preview) in Amazon Bedrock AgentCore Browser](https://aws.amazon.com/blogs/machine-learning/reduce-captchas-for-ai-agents-browsing-the-web-with-web-bot-auth-preview-in-amazon-bedrock-agentcore-browser/)** - Comprehensive guide on Web Bot Auth implementation and benefits\n",
    "\n",
    "### Documentation\n",
    "- **[Cloudflare Web Bot Auth Documentation](https://developers.cloudflare.com/bots/reference/bot-verification/web-bot-auth/)** - Technical specification and implementation details\n",
    "- **[Amazon Bedrock AgentCore Browser Documentation](https://docs.aws.amazon.com/bedrock-agentcore/latest/devguide/browser-onboarding.html)** - Complete guide to AgentCore Browser features\n",
    "\n",
    "### Related Topics\n",
    "- **[HTTP Message Signatures (RFC 9421)](https://datatracker.ietf.org/doc/rfc9421/)** - The underlying cryptographic standard used by Web Bot Auth\n",
    "- **[Web Bot Auth Architecture (IETF Draft)](https://datatracker.ietf.org/doc/html/draft-meunier-web-bot-auth-architecture)** - The IETF draft specification for Web Bot Auth architecture"
   ]
  }
 ],
 "metadata": {
  "kernelspec": {
   "display_name": ".venv",
   "language": "python",
   "name": "python3"
  },
  "language_info": {
   "codemirror_mode": {
    "name": "ipython",
    "version": 3
   },
   "file_extension": ".py",
   "mimetype": "text/x-python",
   "name": "python",
   "nbconvert_exporter": "python",
   "pygments_lexer": "ipython3",
   "version": "3.13.5"
  }
 },
 "nbformat": 4,
 "nbformat_minor": 4
}
